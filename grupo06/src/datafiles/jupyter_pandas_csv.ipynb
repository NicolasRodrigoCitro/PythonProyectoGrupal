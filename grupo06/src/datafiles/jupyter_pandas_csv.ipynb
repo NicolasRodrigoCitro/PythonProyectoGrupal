{
 "cells": [
  {
   "cell_type": "code",
   "execution_count": null,
   "id": "12035e86",
   "metadata": {},
   "outputs": [
    {
     "ename": "",
     "evalue": "",
     "output_type": "error",
     "traceback": [
      "\u001b[1;31mRunning cells with 'Python 3.10.4 ('venv')' requires ipykernel package.\n",
      "Run the following command to install 'ipykernel' into the Python environment. \n",
      "Command: 'c:/Users/Nicol/Documents/proyectoPythonActualizado/venv/Scripts/python.exe -m pip install ipykernel -U --force-reinstall'"
     ]
    }
   ],
   "source": [
    "import os\n",
    "import string\n",
    "import pandas as pd\n",
    "\n",
    "primitives_path = os.path.join(os.path.dirname(\"__file__\"), \"primitives\")\n",
    "processed_path = os.path.join(os.path.dirname(\"__file__\"), \"processed\")\n",
    "\n",
    "spotify_dataset_file = \"Spotify 2010 - 2019 Top 100.csv\"\n",
    "lagos_dataset_file = \"Lagos Argentina - Hoja 1.csv\"\n",
    "fifa_dataset_file = \"FIFA-21 Complete.csv\"\n"
   ]
  },
  {
   "cell_type": "code",
   "execution_count": null,
   "id": "03308431",
   "metadata": {},
   "outputs": [
    {
     "ename": "",
     "evalue": "",
     "output_type": "error",
     "traceback": [
      "\u001b[1;31mRunning cells with 'Python 3.10.4 ('venv')' requires ipykernel package.\n",
      "Run the following command to install 'ipykernel' into the Python environment. \n",
      "Command: 'c:/Users/Nicol/Documents/proyectoPythonActualizado/venv/Scripts/python.exe -m pip install ipykernel -U --force-reinstall'"
     ]
    }
   ],
   "source": [
    "def importador_dataFrame_csv(dataset_name):\n",
    "    \"\"\"modulo que abre los datasets originales, con separacion por \",\" para el de\n",
    "    jugadores de fifa y \",\" para el resto\"\"\"\n",
    "    \n",
    "    if dataset_name == fifa_dataset_file:\n",
    "        datos= pd.read_csv(os.path.join(primitives_path, dataset_name), sep=';')\n",
    "    else:\n",
    "        datos= pd.read_csv(os.path.join(primitives_path, dataset_name), sep=',')\n",
    "    return pd.DataFrame(datos)"
   ]
  },
  {
   "cell_type": "markdown",
   "id": "9aadac8d",
   "metadata": {},
   "source": [
    "Procesamiento de dataset de canciones de Spotify"
   ]
  },
  {
   "cell_type": "code",
   "execution_count": null,
   "id": "48ca839d",
   "metadata": {},
   "outputs": [
    {
     "ename": "",
     "evalue": "",
     "output_type": "error",
     "traceback": [
      "\u001b[1;31mRunning cells with 'Python 3.10.4 ('venv')' requires ipykernel package.\n",
      "Run the following command to install 'ipykernel' into the Python environment. \n",
      "Command: 'c:/Users/Nicol/Documents/proyectoPythonActualizado/venv/Scripts/python.exe -m pip install ipykernel -U --force-reinstall'"
     ]
    }
   ],
   "source": [
    "df_spotify=importador_dataFrame_csv(spotify_dataset_file)\n",
    "df_spoty_filtrado= df_spotify.dropna()          #elimino los nan\n",
    "df_spoty_filtrado= df_spoty_filtrado[['top genre', 'artist type', 'year released', 'top year', 'bpm', 'artist']]        # elimino columnas que no me sirven"
   ]
  },
  {
   "cell_type": "code",
   "execution_count": null,
   "id": "b8911828",
   "metadata": {},
   "outputs": [
    {
     "ename": "",
     "evalue": "",
     "output_type": "error",
     "traceback": [
      "\u001b[1;31mRunning cells with 'Python 3.10.4 ('venv')' requires ipykernel package.\n",
      "Run the following command to install 'ipykernel' into the Python environment. \n",
      "Command: 'c:/Users/Nicol/Documents/proyectoPythonActualizado/venv/Scripts/python.exe -m pip install ipykernel -U --force-reinstall'"
     ]
    }
   ],
   "source": [
    "def cambiar_formato(genero):\n",
    "    \"\"\"Este procedimiento toma el campo top genre y a cada palabra le realiza una operacion dependiendo de cual es:\n",
    "        -Si es k-pop, la cambia por K-Pop\n",
    "        -Si es alguno de los generos 'edm','dfw','uk','r&b' o 'lgbtq+', los pone en mayusculas\n",
    "        -Si no es ninguno de los anteriores, pone en mayuscula la primera letra\"\"\"\n",
    "\n",
    "    generos_minus = ['edm','dfw','uk','r&b','lgbtq+']\n",
    "    generos_sep = genero.split(\" \")\n",
    "    genero_resultado = []\n",
    "    for genero in generos_sep:\n",
    "        if genero in generos_minus:\n",
    "            genero = genero.upper()\n",
    "        elif genero == \"k-pop\":\n",
    "            genero = \"K-Pop\"\n",
    "        else:\n",
    "            genero = genero.capitalize()\n",
    "        genero_resultado.append(genero)\n",
    "    return \" \".join(genero_resultado)"
   ]
  },
  {
   "cell_type": "markdown",
   "id": "b627abf7",
   "metadata": {},
   "source": [
    "Reemplazo en la columa de genero con el formato pedido, pasando 'edm','dfw','uk','r&b','lgbtq+' a mayuscula, 'k-pop' a K-Pop y los campos numericos a enteros"
   ]
  },
  {
   "cell_type": "code",
   "execution_count": null,
   "id": "b0b030c2",
   "metadata": {},
   "outputs": [
    {
     "ename": "",
     "evalue": "",
     "output_type": "error",
     "traceback": [
      "\u001b[1;31mRunning cells with 'Python 3.10.4 ('venv')' requires ipykernel package.\n",
      "Run the following command to install 'ipykernel' into the Python environment. \n",
      "Command: 'c:/Users/Nicol/Documents/proyectoPythonActualizado/venv/Scripts/python.exe -m pip install ipykernel -U --force-reinstall'"
     ]
    }
   ],
   "source": [
    "df_spoty_filtrado['top genre'] = df_spoty_filtrado['top genre'].apply(lambda x: cambiar_formato(x))\n",
    "\n",
    "df_spoty_filtrado['year released'] = df_spoty_filtrado['year released'].astype(int)\n",
    "df_spoty_filtrado['top year'] = df_spoty_filtrado['top year'].astype(int)\n",
    "df_spoty_filtrado['bpm'] = df_spoty_filtrado['bpm'].astype(int)"
   ]
  },
  {
   "cell_type": "markdown",
   "id": "ce6d5f02",
   "metadata": {},
   "source": [
    "Procesamiento dataset de lagos de Argentina"
   ]
  },
  {
   "cell_type": "code",
   "execution_count": null,
   "id": "12feb658",
   "metadata": {},
   "outputs": [
    {
     "ename": "",
     "evalue": "",
     "output_type": "error",
     "traceback": [
      "\u001b[1;31mRunning cells with 'Python 3.10.4 ('venv')' requires ipykernel package.\n",
      "Run the following command to install 'ipykernel' into the Python environment. \n",
      "Command: 'c:/Users/Nicol/Documents/proyectoPythonActualizado/venv/Scripts/python.exe -m pip install ipykernel -U --force-reinstall'"
     ]
    }
   ],
   "source": [
    "def conversor_coord_decimal(coord):\n",
    "    \"\"\"procedimiento que convierte el contenido de la columna coordenada del dataFrame lagos,\n",
    "    que esta en formato str(en grados) y se transforma de decimale y posteriormente retorna a str\"\"\"\n",
    "    \n",
    "    puntos_cardinales = {'N':1, 'S':-1, 'E': 1, 'O':-1}\n",
    "    lat = coord.split(\" \")[0].replace(\"°\", \" \").replace(\"'\", \" \").replace('\"',\" \").split(\" \")\n",
    "    long = coord.split(\" \")[1].replace(\"°\", \" \").replace(\"'\", \" \").replace('\"',\" \").split(\" \")\n",
    "    lat_pc = lat.pop(-1)\n",
    "    long_pc = long.pop(-1)\n",
    "    latitud = (int(lat[0]) + (int(lat[1])/60) + (int(lat[2])/3600)) * puntos_cardinales[lat_pc]\n",
    "    longitud = (int(long[0]) + (int(long[1])/60) + (int(long[2])/3600)) * puntos_cardinales[long_pc]\n",
    "    return str(latitud) + \" \" + str(longitud)\n"
   ]
  },
  {
   "cell_type": "code",
   "execution_count": null,
   "id": "6b18000e",
   "metadata": {},
   "outputs": [
    {
     "ename": "",
     "evalue": "",
     "output_type": "error",
     "traceback": [
      "\u001b[1;31mRunning cells with 'Python 3.10.4 ('venv')' requires ipykernel package.\n",
      "Run the following command to install 'ipykernel' into the Python environment. \n",
      "Command: 'c:/Users/Nicol/Documents/proyectoPythonActualizado/venv/Scripts/python.exe -m pip install ipykernel -U --force-reinstall'"
     ]
    }
   ],
   "source": [
    "\n",
    "df_lagos = importador_dataFrame_csv(lagos_dataset_file)\n",
    "df_lagos_filtrado = df_lagos.dropna()           #elimimo los nan\n",
    "#guardo en la variable df_lagos_filtrado un nuevo dataFrame con las columas corespondientes a lo pedido \n",
    "df_lagos_filtrado = df_lagos[['Ubicación', 'Superficie (km²)', 'Profundidad máxima (m)', 'Profundidad media (m)', 'Coordenadas', 'Nombre']]\n",
    "\n",
    "#aplico con .map la funcion conversor_coord_decimal a la columna coordenadas\n",
    "df_lagos_filtrado['Coordenadas'] = df_lagos_filtrado['Coordenadas'].map(conversor_coord_decimal)\n",
    "\n",
    "df_lagos_filtrado['Ubicación'] = df_lagos_filtrado['Ubicación'].str.replace(',','.').str.replace('\"', \" \")"
   ]
  },
  {
   "cell_type": "markdown",
   "id": "aa9a9cf6",
   "metadata": {},
   "source": [
    "Procesamiento de dataset de jugadores de FIFA"
   ]
  },
  {
   "cell_type": "code",
   "execution_count": null,
   "id": "0a37e5d7",
   "metadata": {},
   "outputs": [
    {
     "name": "stderr",
     "output_type": "stream",
     "text": [
      "C:\\Users\\Usuario\\AppData\\Local\\Temp\\ipykernel_6088\\2462142610.py:7: SettingWithCopyWarning: \n",
      "A value is trying to be set on a copy of a slice from a DataFrame.\n",
      "Try using .loc[row_indexer,col_indexer] = value instead\n",
      "\n",
      "See the caveats in the documentation: https://pandas.pydata.org/pandas-docs/stable/user_guide/indexing.html#returning-a-view-versus-a-copy\n",
      "  df_fifa_filtrado['team']=df_fifa_filtrado['team'].str.strip()\n"
     ]
    },
    {
     "ename": "",
     "evalue": "",
     "output_type": "error",
     "traceback": [
      "\u001b[1;31mRunning cells with 'Python 3.10.4 ('venv')' requires ipykernel package.\n",
      "Run the following command to install 'ipykernel' into the Python environment. \n",
      "Command: 'c:/Users/Nicol/Documents/proyectoPythonActualizado/venv/Scripts/python.exe -m pip install ipykernel -U --force-reinstall'"
     ]
    }
   ],
   "source": [
    "df_fifa=importador_dataFrame_csv(fifa_dataset_file)\n",
    "\n",
    "df_fifa=df_fifa.dropna()            #elimimo los nan\n",
    "\n",
    "#guardo en la variable df_lagos_filtraddo un nuevo dataFrame con las columas corespondientes a lo pedido \n",
    "df_fifa_filtrado= df_fifa[['team', 'nationality', 'position', 'age', 'potential', 'name']]\n",
    "df_fifa_filtrado['team']=df_fifa_filtrado['team'].str.strip()# quita los espacios"
   ]
  },
  {
   "cell_type": "code",
   "execution_count": null,
   "id": "cd79ce68",
   "metadata": {},
   "outputs": [
    {
     "ename": "",
     "evalue": "",
     "output_type": "error",
     "traceback": [
      "\u001b[1;31mRunning cells with 'Python 3.10.4 ('venv')' requires ipykernel package.\n",
      "Run the following command to install 'ipykernel' into the Python environment. \n",
      "Command: 'c:/Users/Nicol/Documents/proyectoPythonActualizado/venv/Scripts/python.exe -m pip install ipykernel -U --force-reinstall'"
     ]
    }
   ],
   "source": [
    "def obtener_potencial(potencial):\n",
    "    \"\"\"procedimiento que devuelve la calidad del jugador en str segun sus puntos de potencial recibidos\"\"\"\n",
    "    \n",
    "    if  potencial < 60:\n",
    "        return \"Regular\"\n",
    "    elif potencial >= 60 and potencial <= 79:\n",
    "        return \"Bueno\"\n",
    "    elif potencial > 80 <= 90:\n",
    "        return \"Muy Bueno\"\n",
    "    else:\n",
    "        return \"Sobresaliente\"\n",
    "\n",
    "def posicion_en_espanol(posicion):\n",
    "    \"\"\"procedimiento que divide las posiciones del jugador es una lista,\n",
    "    asigna a cada posicion su nombre correspondiente en español y\n",
    "    devuelve un string con las posiciones\"\"\"\n",
    "    \n",
    "    lista_pos = posicion.split(\"|\")\n",
    "    posiciones = {\n",
    "        \"GK\": \"Arquero\",\n",
    "        \"LB\": \"Lateral Izquierdo\",\n",
    "        \"LCB\": \"Defensor Central Izquierdo\",\n",
    "        \"CB\": \"Defensor Central\",\n",
    "        \"RCB\": \"Defensor Central Derecho\",\n",
    "        \"RB\": \"Lateral Derecho\",\n",
    "        \"LWB\": \"Carrilero Izquierdo\",\n",
    "        \"LDM\": \"Mediocampista Defensivo Izquierdo\",\n",
    "        \"CDM\": \"Mediocampista Defensivo Central\",\n",
    "        \"RDM\": \"Mediocampista Defensivo Derecho\",\n",
    "        \"RWB\": \"Carrilero Derecho\",\n",
    "        \"LM\": \"Mediocampista Izquierdo\",\n",
    "        \"LCM\": \"Mediocampista Central Izquierdo\",\n",
    "        \"CM\": \"Mediocampista Central\",\n",
    "        \"RCM\": \"Mediocampista Central Derecho\",\n",
    "        \"RM\": \"Mediocampista Derecho\",\n",
    "        \"LAM\": \"Mediocampista Ofensivo Izquierdo\",\n",
    "        \"CAM\": \"Mediocampista Ofensivo Central\",\n",
    "        \"RAM\": \"Mediocampista Ofensivo Derecho\",\n",
    "        \"LW\": \"Extremo Izquierdo\",\n",
    "        \"ST\": \"Segundo Delantero\",\n",
    "        \"RW\": \"Extremo Derecho\",\n",
    "        \"LF\": \"Delantero Izquierdo\",\n",
    "        \"CF\": \"Media Punta\",\n",
    "        \"RF\": \"Delantero Derecho\",\n",
    "    }\n",
    "    lista_pos_esp = []\n",
    "    lista_pos_esp = list(map(lambda pos: posiciones[pos], lista_pos))\n",
    "        \n",
    "    return \"|\".join(lista_pos_esp)"
   ]
  },
  {
   "cell_type": "markdown",
   "id": "444db52a",
   "metadata": {},
   "source": [
    "Se aplica a todos los elementos de la columna potential con un map la funcion obtener_potencial"
   ]
  },
  {
   "cell_type": "code",
   "execution_count": null,
   "id": "f728cc9d",
   "metadata": {},
   "outputs": [
    {
     "name": "stderr",
     "output_type": "stream",
     "text": [
      "C:\\Users\\Usuario\\AppData\\Local\\Temp\\ipykernel_6088\\2295867570.py:1: SettingWithCopyWarning: \n",
      "A value is trying to be set on a copy of a slice from a DataFrame.\n",
      "Try using .loc[row_indexer,col_indexer] = value instead\n",
      "\n",
      "See the caveats in the documentation: https://pandas.pydata.org/pandas-docs/stable/user_guide/indexing.html#returning-a-view-versus-a-copy\n",
      "  df_fifa_filtrado['potential']=df_fifa_filtrado['potential'].map(obtener_potencial)\n"
     ]
    },
    {
     "ename": "",
     "evalue": "",
     "output_type": "error",
     "traceback": [
      "\u001b[1;31mRunning cells with 'Python 3.10.4 ('venv')' requires ipykernel package.\n",
      "Run the following command to install 'ipykernel' into the Python environment. \n",
      "Command: 'c:/Users/Nicol/Documents/proyectoPythonActualizado/venv/Scripts/python.exe -m pip install ipykernel -U --force-reinstall'"
     ]
    }
   ],
   "source": [
    "df_fifa_filtrado['potential']=df_fifa_filtrado['potential'].map(obtener_potencial)"
   ]
  },
  {
   "cell_type": "markdown",
   "id": "b4821d88",
   "metadata": {},
   "source": [
    "Se aplica a todos los elementos de la columna potential con un map la funcion posicion_en_espanol"
   ]
  },
  {
   "cell_type": "code",
   "execution_count": null,
   "id": "2039252b",
   "metadata": {},
   "outputs": [
    {
     "name": "stderr",
     "output_type": "stream",
     "text": [
      "C:\\Users\\Usuario\\AppData\\Local\\Temp\\ipykernel_6088\\3608969050.py:1: SettingWithCopyWarning: \n",
      "A value is trying to be set on a copy of a slice from a DataFrame.\n",
      "Try using .loc[row_indexer,col_indexer] = value instead\n",
      "\n",
      "See the caveats in the documentation: https://pandas.pydata.org/pandas-docs/stable/user_guide/indexing.html#returning-a-view-versus-a-copy\n",
      "  df_fifa_filtrado['position'] = df_fifa_filtrado['position'].map(posicion_en_espanol)\n"
     ]
    },
    {
     "ename": "",
     "evalue": "",
     "output_type": "error",
     "traceback": [
      "\u001b[1;31mRunning cells with 'Python 3.10.4 ('venv')' requires ipykernel package.\n",
      "Run the following command to install 'ipykernel' into the Python environment. \n",
      "Command: 'c:/Users/Nicol/Documents/proyectoPythonActualizado/venv/Scripts/python.exe -m pip install ipykernel -U --force-reinstall'"
     ]
    }
   ],
   "source": [
    "df_fifa_filtrado['position'] = df_fifa_filtrado['position'].map(posicion_en_espanol)"
   ]
  },
  {
   "cell_type": "markdown",
   "id": "d81e3715",
   "metadata": {},
   "source": [
    "Se guarda los dataFrame en formato csv"
   ]
  },
  {
   "cell_type": "code",
   "execution_count": null,
   "id": "662a5aec",
   "metadata": {},
   "outputs": [
    {
     "ename": "",
     "evalue": "",
     "output_type": "error",
     "traceback": [
      "\u001b[1;31mRunning cells with 'Python 3.10.4 ('venv')' requires ipykernel package.\n",
      "Run the following command to install 'ipykernel' into the Python environment. \n",
      "Command: 'c:/Users/Nicol/Documents/proyectoPythonActualizado/venv/Scripts/python.exe -m pip install ipykernel -U --force-reinstall'"
     ]
    }
   ],
   "source": [
    "\n",
    "df_spoty_filtrado.to_csv(os.path.join(processed_path, 'spotify_filtrado_pandas.csv'), index=False, sep= ',', encoding='utf-8')\n",
    "df_lagos_filtrado.to_csv(os.path.join(processed_path, 'lagos_filtrado_pandas.csv'), index=False, sep= ',', encoding='utf-8')\n",
    "df_fifa_filtrado.to_csv(os.path.join(processed_path, 'fifa_filtrado_pandas.csv'), index=False, sep= ',', encoding='utf-8')\n"
   ]
  }
 ],
 "metadata": {
  "kernelspec": {
   "display_name": "Python 3.10.4 ('venv')",
   "language": "python",
   "name": "python3"
  },
  "language_info": {
   "codemirror_mode": {
    "name": "ipython",
    "version": 3
   },
   "file_extension": ".py",
   "mimetype": "text/x-python",
   "name": "python",
   "nbconvert_exporter": "python",
   "pygments_lexer": "ipython3",
   "version": "3.10.4"
  },
  "vscode": {
   "interpreter": {
    "hash": "4bed750841fdc3d4fb90582297ed30fdd04c7d0535fcdbbe3eb9c97ca0cbc64a"
   }
  }
 },
 "nbformat": 4,
 "nbformat_minor": 5
}
