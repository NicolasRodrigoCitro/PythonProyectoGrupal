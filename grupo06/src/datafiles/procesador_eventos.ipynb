{
 "cells": [
  {
   "cell_type": "code",
   "execution_count": 1,
   "metadata": {},
   "outputs": [],
   "source": [
    "import pandas as pd\n",
    "import os\n"
   ]
  },
  {
   "cell_type": "code",
   "execution_count": 2,
   "metadata": {},
   "outputs": [],
   "source": [
    "events_file = pd.read_csv(os.path.join(os.path.dirname(\"__file__\"), \"data_eventos.csv\"), encoding='utf-8', sep=\",\")"
   ]
  },
  {
   "cell_type": "markdown",
   "metadata": {},
   "source": [
    "● Procesamiento de Top 10 de palabras que se encuentran primero de todas las partidas.\n",
    "\n",
    "Primero chequea si el csv esta vacio (.empty considera vacio tambien si solo esta en encabezado). Si no lo esta:\n",
    "indices contendra los indices de la columna siguiente a la que contiene un evento llamado \"inicio_partida\"\n",
    "indices corregidos compara los indices tomados y chequea si son respuestas (para evitar contar el caso en que el siguiente evento luego del inicio de una partida sea una finalizacion) \n",
    "palabras es un Series que contiene las respuestas de dichas columnas, y primeras_palabras es palabras sumando sus valores, ordenados de mayor a menor y tomando las 10 primeras"
   ]
  },
  {
   "cell_type": "code",
   "execution_count": 3,
   "metadata": {},
   "outputs": [
    {
     "ename": "KeyError",
     "evalue": "'[204] not in index'",
     "output_type": "error",
     "traceback": [
      "\u001b[1;31m---------------------------------------------------------------------------\u001b[0m",
      "\u001b[1;31mKeyError\u001b[0m                                  Traceback (most recent call last)",
      "\u001b[1;32mc:\\Users\\ivomi\\OneDrive\\Escritorio\\grupo06\\src\\datafiles\\procesador_eventos.ipynb Cell 4'\u001b[0m in \u001b[0;36m<cell line: 1>\u001b[1;34m()\u001b[0m\n\u001b[0;32m      <a href='vscode-notebook-cell:/c%3A/Users/ivomi/OneDrive/Escritorio/grupo06/src/datafiles/procesador_eventos.ipynb#ch0000003?line=2'>3</a>\u001b[0m \u001b[39melse\u001b[39;00m:\n\u001b[0;32m      <a href='vscode-notebook-cell:/c%3A/Users/ivomi/OneDrive/Escritorio/grupo06/src/datafiles/procesador_eventos.ipynb#ch0000003?line=3'>4</a>\u001b[0m     indices \u001b[39m=\u001b[39m (events_file[events_file[\u001b[39m\"\u001b[39m\u001b[39mevento\u001b[39m\u001b[39m\"\u001b[39m] \u001b[39m==\u001b[39m \u001b[39m\"\u001b[39m\u001b[39minicio_partida\u001b[39m\u001b[39m\"\u001b[39m]\u001b[39m.\u001b[39mindex)\u001b[39m+\u001b[39m\u001b[39m1\u001b[39m\n\u001b[1;32m----> <a href='vscode-notebook-cell:/c%3A/Users/ivomi/OneDrive/Escritorio/grupo06/src/datafiles/procesador_eventos.ipynb#ch0000003?line=4'>5</a>\u001b[0m     indices_corregidos \u001b[39m=\u001b[39m (events_file[\u001b[39m\"\u001b[39;49m\u001b[39mevento\u001b[39;49m\u001b[39m\"\u001b[39;49m][indices] \u001b[39m==\u001b[39m \u001b[39m\"\u001b[39m\u001b[39mintento\u001b[39m\u001b[39m\"\u001b[39m)\u001b[39m.\u001b[39mindex\n\u001b[0;32m      <a href='vscode-notebook-cell:/c%3A/Users/ivomi/OneDrive/Escritorio/grupo06/src/datafiles/procesador_eventos.ipynb#ch0000003?line=6'>7</a>\u001b[0m     palabras \u001b[39m=\u001b[39m events_file[\u001b[39m\"\u001b[39m\u001b[39mrespuesta\u001b[39m\u001b[39m\"\u001b[39m][indices_corregidos]\n\u001b[0;32m      <a href='vscode-notebook-cell:/c%3A/Users/ivomi/OneDrive/Escritorio/grupo06/src/datafiles/procesador_eventos.ipynb#ch0000003?line=7'>8</a>\u001b[0m     primeras_palabras \u001b[39m=\u001b[39m palabras\u001b[39m.\u001b[39msort_values()\u001b[39m.\u001b[39mvalue_counts()[:\u001b[39m10\u001b[39m]\n",
      "File \u001b[1;32mc:\\Users\\ivomi\\AppData\\Local\\Programs\\Python\\Python310\\lib\\site-packages\\pandas\\core\\series.py:984\u001b[0m, in \u001b[0;36mSeries.__getitem__\u001b[1;34m(self, key)\u001b[0m\n\u001b[0;32m    981\u001b[0m     key \u001b[39m=\u001b[39m np\u001b[39m.\u001b[39masarray(key, dtype\u001b[39m=\u001b[39m\u001b[39mbool\u001b[39m)\n\u001b[0;32m    982\u001b[0m     \u001b[39mreturn\u001b[39;00m \u001b[39mself\u001b[39m\u001b[39m.\u001b[39m_get_values(key)\n\u001b[1;32m--> 984\u001b[0m \u001b[39mreturn\u001b[39;00m \u001b[39mself\u001b[39;49m\u001b[39m.\u001b[39;49m_get_with(key)\n",
      "File \u001b[1;32mc:\\Users\\ivomi\\AppData\\Local\\Programs\\Python\\Python310\\lib\\site-packages\\pandas\\core\\series.py:1019\u001b[0m, in \u001b[0;36mSeries._get_with\u001b[1;34m(self, key)\u001b[0m\n\u001b[0;32m   1015\u001b[0m \u001b[39mif\u001b[39;00m key_type \u001b[39m==\u001b[39m \u001b[39m\"\u001b[39m\u001b[39minteger\u001b[39m\u001b[39m\"\u001b[39m:\n\u001b[0;32m   1016\u001b[0m     \u001b[39m# We need to decide whether to treat this as a positional indexer\u001b[39;00m\n\u001b[0;32m   1017\u001b[0m     \u001b[39m#  (i.e. self.iloc) or label-based (i.e. self.loc)\u001b[39;00m\n\u001b[0;32m   1018\u001b[0m     \u001b[39mif\u001b[39;00m \u001b[39mnot\u001b[39;00m \u001b[39mself\u001b[39m\u001b[39m.\u001b[39mindex\u001b[39m.\u001b[39m_should_fallback_to_positional:\n\u001b[1;32m-> 1019\u001b[0m         \u001b[39mreturn\u001b[39;00m \u001b[39mself\u001b[39;49m\u001b[39m.\u001b[39;49mloc[key]\n\u001b[0;32m   1020\u001b[0m     \u001b[39melse\u001b[39;00m:\n\u001b[0;32m   1021\u001b[0m         \u001b[39mreturn\u001b[39;00m \u001b[39mself\u001b[39m\u001b[39m.\u001b[39miloc[key]\n",
      "File \u001b[1;32mc:\\Users\\ivomi\\AppData\\Local\\Programs\\Python\\Python310\\lib\\site-packages\\pandas\\core\\indexing.py:967\u001b[0m, in \u001b[0;36m_LocationIndexer.__getitem__\u001b[1;34m(self, key)\u001b[0m\n\u001b[0;32m    964\u001b[0m axis \u001b[39m=\u001b[39m \u001b[39mself\u001b[39m\u001b[39m.\u001b[39maxis \u001b[39mor\u001b[39;00m \u001b[39m0\u001b[39m\n\u001b[0;32m    966\u001b[0m maybe_callable \u001b[39m=\u001b[39m com\u001b[39m.\u001b[39mapply_if_callable(key, \u001b[39mself\u001b[39m\u001b[39m.\u001b[39mobj)\n\u001b[1;32m--> 967\u001b[0m \u001b[39mreturn\u001b[39;00m \u001b[39mself\u001b[39;49m\u001b[39m.\u001b[39;49m_getitem_axis(maybe_callable, axis\u001b[39m=\u001b[39;49maxis)\n",
      "File \u001b[1;32mc:\\Users\\ivomi\\AppData\\Local\\Programs\\Python\\Python310\\lib\\site-packages\\pandas\\core\\indexing.py:1191\u001b[0m, in \u001b[0;36m_LocIndexer._getitem_axis\u001b[1;34m(self, key, axis)\u001b[0m\n\u001b[0;32m   1188\u001b[0m     \u001b[39mif\u001b[39;00m \u001b[39mhasattr\u001b[39m(key, \u001b[39m\"\u001b[39m\u001b[39mndim\u001b[39m\u001b[39m\"\u001b[39m) \u001b[39mand\u001b[39;00m key\u001b[39m.\u001b[39mndim \u001b[39m>\u001b[39m \u001b[39m1\u001b[39m:\n\u001b[0;32m   1189\u001b[0m         \u001b[39mraise\u001b[39;00m \u001b[39mValueError\u001b[39;00m(\u001b[39m\"\u001b[39m\u001b[39mCannot index with multidimensional key\u001b[39m\u001b[39m\"\u001b[39m)\n\u001b[1;32m-> 1191\u001b[0m     \u001b[39mreturn\u001b[39;00m \u001b[39mself\u001b[39;49m\u001b[39m.\u001b[39;49m_getitem_iterable(key, axis\u001b[39m=\u001b[39;49maxis)\n\u001b[0;32m   1193\u001b[0m \u001b[39m# nested tuple slicing\u001b[39;00m\n\u001b[0;32m   1194\u001b[0m \u001b[39mif\u001b[39;00m is_nested_tuple(key, labels):\n",
      "File \u001b[1;32mc:\\Users\\ivomi\\AppData\\Local\\Programs\\Python\\Python310\\lib\\site-packages\\pandas\\core\\indexing.py:1132\u001b[0m, in \u001b[0;36m_LocIndexer._getitem_iterable\u001b[1;34m(self, key, axis)\u001b[0m\n\u001b[0;32m   1129\u001b[0m \u001b[39mself\u001b[39m\u001b[39m.\u001b[39m_validate_key(key, axis)\n\u001b[0;32m   1131\u001b[0m \u001b[39m# A collection of keys\u001b[39;00m\n\u001b[1;32m-> 1132\u001b[0m keyarr, indexer \u001b[39m=\u001b[39m \u001b[39mself\u001b[39;49m\u001b[39m.\u001b[39;49m_get_listlike_indexer(key, axis)\n\u001b[0;32m   1133\u001b[0m \u001b[39mreturn\u001b[39;00m \u001b[39mself\u001b[39m\u001b[39m.\u001b[39mobj\u001b[39m.\u001b[39m_reindex_with_indexers(\n\u001b[0;32m   1134\u001b[0m     {axis: [keyarr, indexer]}, copy\u001b[39m=\u001b[39m\u001b[39mTrue\u001b[39;00m, allow_dups\u001b[39m=\u001b[39m\u001b[39mTrue\u001b[39;00m\n\u001b[0;32m   1135\u001b[0m )\n",
      "File \u001b[1;32mc:\\Users\\ivomi\\AppData\\Local\\Programs\\Python\\Python310\\lib\\site-packages\\pandas\\core\\indexing.py:1327\u001b[0m, in \u001b[0;36m_LocIndexer._get_listlike_indexer\u001b[1;34m(self, key, axis)\u001b[0m\n\u001b[0;32m   1324\u001b[0m ax \u001b[39m=\u001b[39m \u001b[39mself\u001b[39m\u001b[39m.\u001b[39mobj\u001b[39m.\u001b[39m_get_axis(axis)\n\u001b[0;32m   1325\u001b[0m axis_name \u001b[39m=\u001b[39m \u001b[39mself\u001b[39m\u001b[39m.\u001b[39mobj\u001b[39m.\u001b[39m_get_axis_name(axis)\n\u001b[1;32m-> 1327\u001b[0m keyarr, indexer \u001b[39m=\u001b[39m ax\u001b[39m.\u001b[39;49m_get_indexer_strict(key, axis_name)\n\u001b[0;32m   1329\u001b[0m \u001b[39mreturn\u001b[39;00m keyarr, indexer\n",
      "File \u001b[1;32mc:\\Users\\ivomi\\AppData\\Local\\Programs\\Python\\Python310\\lib\\site-packages\\pandas\\core\\indexes\\base.py:5782\u001b[0m, in \u001b[0;36mIndex._get_indexer_strict\u001b[1;34m(self, key, axis_name)\u001b[0m\n\u001b[0;32m   5779\u001b[0m \u001b[39melse\u001b[39;00m:\n\u001b[0;32m   5780\u001b[0m     keyarr, indexer, new_indexer \u001b[39m=\u001b[39m \u001b[39mself\u001b[39m\u001b[39m.\u001b[39m_reindex_non_unique(keyarr)\n\u001b[1;32m-> 5782\u001b[0m \u001b[39mself\u001b[39;49m\u001b[39m.\u001b[39;49m_raise_if_missing(keyarr, indexer, axis_name)\n\u001b[0;32m   5784\u001b[0m keyarr \u001b[39m=\u001b[39m \u001b[39mself\u001b[39m\u001b[39m.\u001b[39mtake(indexer)\n\u001b[0;32m   5785\u001b[0m \u001b[39mif\u001b[39;00m \u001b[39misinstance\u001b[39m(key, Index):\n\u001b[0;32m   5786\u001b[0m     \u001b[39m# GH 42790 - Preserve name from an Index\u001b[39;00m\n",
      "File \u001b[1;32mc:\\Users\\ivomi\\AppData\\Local\\Programs\\Python\\Python310\\lib\\site-packages\\pandas\\core\\indexes\\base.py:5845\u001b[0m, in \u001b[0;36mIndex._raise_if_missing\u001b[1;34m(self, key, indexer, axis_name)\u001b[0m\n\u001b[0;32m   5842\u001b[0m     \u001b[39mraise\u001b[39;00m \u001b[39mKeyError\u001b[39;00m(\u001b[39mf\u001b[39m\u001b[39m\"\u001b[39m\u001b[39mNone of [\u001b[39m\u001b[39m{\u001b[39;00mkey\u001b[39m}\u001b[39;00m\u001b[39m] are in the [\u001b[39m\u001b[39m{\u001b[39;00maxis_name\u001b[39m}\u001b[39;00m\u001b[39m]\u001b[39m\u001b[39m\"\u001b[39m)\n\u001b[0;32m   5844\u001b[0m not_found \u001b[39m=\u001b[39m \u001b[39mlist\u001b[39m(ensure_index(key)[missing_mask\u001b[39m.\u001b[39mnonzero()[\u001b[39m0\u001b[39m]]\u001b[39m.\u001b[39munique())\n\u001b[1;32m-> 5845\u001b[0m \u001b[39mraise\u001b[39;00m \u001b[39mKeyError\u001b[39;00m(\u001b[39mf\u001b[39m\u001b[39m\"\u001b[39m\u001b[39m{\u001b[39;00mnot_found\u001b[39m}\u001b[39;00m\u001b[39m not in index\u001b[39m\u001b[39m\"\u001b[39m)\n",
      "\u001b[1;31mKeyError\u001b[0m: '[204] not in index'"
     ]
    }
   ],
   "source": [
    "\n",
    "if events_file.empty:\n",
    "    print(\"No hay partidas registradas\")\n",
    "else:\n",
    "    indices = (events_file[events_file[\"evento\"] == \"inicio_partida\"].index)+1\n",
    "    indices_corregidos = (events_file[\"evento\"][indices] == \"intento\").index\n",
    "\n",
    "    palabras = events_file[\"respuesta\"][indices_corregidos]\n",
    "    primeras_palabras = palabras.sort_values().value_counts()[:10]\n",
    "    print(f\"Top 10 primeras palabras de todas las partidas:\\n\\n{primeras_palabras}\")\n",
    "\n",
    "    "
   ]
  },
  {
   "cell_type": "markdown",
   "metadata": {},
   "source": [
    "● Gráfico que muestre el porcentaje de partidas por estado (fin, cancelada, error, timeout). También debe tener en cuenta las partidas que se terminaron inesperadamente o de forma repentina (partidas sin evento de fin)\n",
    "\n",
    "Si el csv no esta vacio: El bloque for itera sobre el dataframe y analiza los siguientes casos: se halla el inicio y el fin de la partida, se hallar dos inicios sin un fin entre ellos. En el ultimo caso, se incrementa la variable que cuenta las partidas sin fin (no_fin). El ultimo if analiza si el ultimo evento es un fin, para determinar si la ultima partida registrada es el caso.\n",
    "Luego cuenta los eventos de las rondas (sin tomar las correctas). Por ultimo, convierte no_fin a Series y lo agrega al Series porc_por_estado para armar el grafico"
   ]
  },
  {
   "cell_type": "code",
   "execution_count": 4,
   "metadata": {},
   "outputs": [
    {
     "name": "stderr",
     "output_type": "stream",
     "text": [
      "C:\\Users\\ivomi\\AppData\\Local\\Temp\\ipykernel_14084\\2317288099.py:19: FutureWarning: The series.append method is deprecated and will be removed from pandas in a future version. Use pandas.concat instead.\n",
      "  porc_por_estado = cant_estados.append(cant_no_fin)\n"
     ]
    },
    {
     "data": {
      "image/png": "[encoded data removed]",
      "text/plain": [
       "<Figure size 432x288 with 1 Axes>"
      ]
     },
     "metadata": {
      "needs_background": "light"
     },
     "output_type": "display_data"
    }
   ],
   "source": [
    "if events_file.empty:\n",
    "    print(\"No hay partidas registradas\")\n",
    "else:\n",
    "    no_fin = 0\n",
    "    hay_inicio = False\n",
    "    for col_nombre, col_valores in events_file[\"evento\"].iteritems():                \n",
    "        if(col_valores == \"inicio_partida\") and (not hay_inicio):\n",
    "            hay_inicio = True\n",
    "        elif(col_valores == \"inicio_partida\") and (hay_inicio):\n",
    "            hay_inicio = False\n",
    "            no_fin += 1\n",
    "        elif(col_valores == \"fin\"):\n",
    "            hay_inicio = False\n",
    "    if((events_file[\"evento\"][len(events_file)-1] != \"fin\")and(hay_inicio)):\n",
    "        no_fin += 1\n",
    "\n",
    "    cant_estados = events_file[\"estado\"][events_file[\"estado\"] != \"ok\"].value_counts()\n",
    "    cant_no_fin = pd.Series(no_fin, index=[\"sin fin\"])\n",
    "    porc_por_estado = cant_estados.append(cant_no_fin)\n",
    "\n",
    "    porc_por_estado.plot(kind=\"barh\")"
   ]
  },
  {
   "cell_type": "markdown",
   "metadata": {},
   "source": [
    "● Gráfico que muestre el porcentaje de partidas finalizadas según género.\n",
    "\n",
    "Si el csv no esta vacio: Abre el archivo de perfiles, luego incrementa aquel valor del diccionario correspondiente al genero obtenido del usuario correspondiente al evento, por cada completamiento de partida. Por ultimo conviente la variable en Series para armar el grafico."
   ]
  },
  {
   "cell_type": "code",
   "execution_count": 5,
   "metadata": {},
   "outputs": [
    {
     "data": {
      "image/png": "[encoded data removed]",
      "text/plain": [
       "<Figure size 432x288 with 1 Axes>"
      ]
     },
     "metadata": {
      "needs_background": "light"
     },
     "output_type": "display_data"
    }
   ],
   "source": [
    "if events_file.empty:\n",
    "    print(\"No hay partidas registradas\")\n",
    "else:\n",
    "    perfiles_data = pd.read_json(\"data.json\")\n",
    "\n",
    "    finalizadas_generos = {\"Hombre\": 0, \"Mujer\": 0, \"Sin genero\": 0}\n",
    "    usuarios_fin = (events_file[events_file[\"estado\"] == \"finalizado\"][\"usuarie\"]).unique()\n",
    "    for usuario in usuarios_fin:\n",
    "        finalizadas_generos[perfiles_data[usuario][\"genero\"].capitalize()] += 1\n",
    "    finalizadas_generos = pd.Series(finalizadas_generos)\n",
    "    finalizadas_generos.plot(kind=\"bar\")\n",
    "        "
   ]
  },
  {
   "cell_type": "markdown",
   "metadata": {},
   "source": [
    "● Gráfico que muestre el porcentaje de partidas finalizadas según nivel.\n",
    "\n",
    "Si el csv no está vacio: cuenta los niveles de aquellas partidas completadas y lo convierte en un grafico"
   ]
  },
  {
   "cell_type": "code",
   "execution_count": null,
   "metadata": {},
   "outputs": [],
   "source": [
    "if events_file.empty:\n",
    "    print(\"No hay partidas registradas\")\n",
    "else:\n",
    "    finalizadas = events_file[events_file[\"estado\"] == \"finalizado\"][\"nivel\"].value_counts()\n",
    "    finalizadas.plot(kind=\"bar\")"
   ]
  },
  {
   "cell_type": "markdown",
   "metadata": {},
   "source": [
    "Tiempo de la respuesta exitosa más rápida.\n",
    "\n",
    "Toma el tiempo de las respuestas correctas y de sus eventos anteriores y los resta. Luego se queda con el menor (si hubo alguna respuesta exitosa)"
   ]
  },
  {
   "cell_type": "code",
   "execution_count": null,
   "metadata": {},
   "outputs": [],
   "source": [
    "mas_rapida = 9999\n",
    "tiempo_act = events_file[events_file[\"estado\"] == \"ok\"][\"timestamp\"]\n",
    "tiempo_ant = events_file[\"timestamp\"][(events_file[events_file[\"estado\"] == \"ok\"].index)-1]\n",
    "t = list(map(lambda x, y: x - y, tiempo_act, tiempo_ant))\n",
    "if len(t) < 1:\n",
    "    print(\"No se han encontrado respuestas exitosas\")\n",
    "else:\n",
    "    mas_rapida = min(t)\n",
    "    print(f\"Tiempo de la respuesta exitosa más rápida: {round(mas_rapida, 2)} segundos\")"
   ]
  },
  {
   "cell_type": "markdown",
   "metadata": {},
   "source": [
    "● Promedio de tiempo de respuesta para respuestas exitosas.\n",
    "\n",
    "Toma variables calculadas anteriormente y realiza calculo de promedio (si hubo alguna respuesta exitosa)"
   ]
  },
  {
   "cell_type": "code",
   "execution_count": null,
   "metadata": {},
   "outputs": [],
   "source": [
    "if len(t) > 0:\n",
    "    prom_rtas = sum(t) / len(t)\n",
    "    print(f\"Promedio de tiempo de respuesta para respuestas exitosas: {round(prom_rtas, 2)} segundos\")\n",
    "else:\n",
    "    print(\"No se puede realizar el promedio si no existen respuestas exitosas\")"
   ]
  },
  {
   "cell_type": "markdown",
   "metadata": {},
   "source": [
    "● Promedio de tiempo de partida general.\n",
    "\n",
    "Itera sobre todo el dataframe cargando la variable indice_inicio cuando halla un evento de inicio y cuando halla un evento de fin resta el tiempo de ese evento con el correspondiente al inicio. Tambien suma la cantidad de partidas. En el caso en que una partida no tiene evento fin, se vuelve a tomar el indice cuando halla otro inicio, por lo que no es problema. Luego calcula el promedio, y si no hay partidas levanta una excepcion"
   ]
  },
  {
   "cell_type": "code",
   "execution_count": null,
   "metadata": {},
   "outputs": [],
   "source": [
    "suma_tiempo = 0\n",
    "partidas = 0\n",
    "hay_inicio = False\n",
    "indice_inicio = 0\n",
    "for index, values in events_file.iterrows():\n",
    "    if values[\"evento\"] == \"inicio_partida\": \n",
    "        indice_inicio = index\n",
    "        hay_inicio = True\n",
    "\n",
    "    if values[\"evento\"] == \"fin\":\n",
    "        suma_tiempo += values[\"timestamp\"] - events_file[\"timestamp\"][indice_inicio]\n",
    "        partidas += 1\n",
    "try:\n",
    "    promedio = suma_tiempo / partidas\n",
    "    print(f\"Promedio de tiempo de partida general: {round(promedio, 2)} segundos\")\n",
    "except ZeroDivisionError:\n",
    "    print(\"No hay partidas registradas\")"
   ]
  },
  {
   "cell_type": "markdown",
   "metadata": {},
   "source": [
    "● Porcentaje de aciertos por usuarie.\n",
    "\n",
    "Si hay usuarios registrados: se toman los usuarios y por cada uno se toma el total de respuestas (intentos) y el total de aciertos (estado = ok). Luego se calcula el promedio y se agrega a un Series tomando como indice el nombre de usuario."
   ]
  },
  {
   "cell_type": "code",
   "execution_count": null,
   "metadata": {},
   "outputs": [],
   "source": [
    "usuarios = events_file[\"usuarie\"].unique()\n",
    "if len(usuarios) < 1:\n",
    "    print(\"No hay usuarios registrados\")\n",
    "else:\n",
    "    aciertos_usuario = pd.Series()\n",
    "    for u in usuarios:\n",
    "        total = len(events_file[events_file[\"usuarie\"] == u][events_file[\"evento\"] == \"intento\"])\n",
    "        aciertos = len((events_file[events_file[\"usuarie\"] == u][events_file[\"estado\"] == \"ok\"]))\n",
    "        if(total > 0):\n",
    "            porc_aciertos = pd.Series(f\"{aciertos / total} %\", index=[u])\n",
    "        else:\n",
    "            porc_aciertos = pd.Series(f\"{aciertos} %\", index=[u])\n",
    "        aciertos_usuario = aciertos_usuario.append(porc_aciertos)\n",
    "    print(f\"Porcentaje de aciertos por usuarie: \\n\\n{aciertos_usuario}\")"
   ]
  },
  {
   "cell_type": "markdown",
   "metadata": {},
   "source": [
    "● Cantidad de tarjetas para las que el usuarie no dió respuesta (timeout).\n",
    "\n",
    "Se toma la cantidad de columnas cuyo estado es \"timeout\""
   ]
  },
  {
   "cell_type": "code",
   "execution_count": null,
   "metadata": {},
   "outputs": [],
   "source": [
    "cant_timeouts = len(events_file[events_file[\"estado\"] == \"timeout\"])\n",
    "print(f\"Cantidad de rondas sin respuesta totales: {cant_timeouts}\")"
   ]
  },
  {
   "cell_type": "markdown",
   "metadata": {},
   "source": [
    "● Cantidad de tarjetas en las que el usuarie dió una respuesta errónea.\n",
    "\n",
    "Se toma la cantidad de columnas cuyo estado es \"error\""
   ]
  },
  {
   "cell_type": "code",
   "execution_count": null,
   "metadata": {},
   "outputs": [],
   "source": [
    "cant_erroneas = len(events_file[events_file[\"estado\"] == \"error\"])\n",
    "print(f\"Cantidad de respuestas erroneas totales: {cant_erroneas}\")"
   ]
  }
 ],
 "metadata": {
  "kernelspec": {
   "display_name": "Python 3.10.2 64-bit",
   "language": "python",
   "name": "python3"
  },
  "language_info": {
   "codemirror_mode": {
    "name": "ipython",
    "version": 3
   },
   "file_extension": ".py",
   "mimetype": "text/x-python",
   "name": "python",
   "nbconvert_exporter": "python",
   "pygments_lexer": "ipython3",
   "version": "3.10.2"
  },
  "orig_nbformat": 4,
  "vscode": {
   "interpreter": {
    "hash": "cf9b825205427558d9e7dfaf6ce7c27a2d4510baca998249d0b0014e3faa8dac"
   }
  }
 },
 "nbformat": 4,
 "nbformat_minor": 2
}
